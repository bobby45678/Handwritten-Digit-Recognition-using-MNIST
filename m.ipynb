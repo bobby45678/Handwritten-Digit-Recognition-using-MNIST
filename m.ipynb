In [4]:import numpy as np
import matplotlib.pyplot as plt
import keras
from keras.datasets import mnist
from keras.models import Sequential
from keras.layers import Dense, Conv2D, MaxPool2D, Flatten, Dropout
